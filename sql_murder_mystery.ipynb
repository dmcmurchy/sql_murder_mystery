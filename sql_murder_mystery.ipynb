{
 "cells": [
  {
   "cell_type": "markdown",
   "metadata": {},
   "source": [
    "# [SQL Murder Mystery](https://mystery.knightlab.com/)\n",
    "*Can you find out whodunit?*\n",
    "\n",
    "There's been a Murder in SQL City! The SQL Murder Mystery is designed to be both a self-directed lesson to learn SQL concepts and commands and a fun game for experienced SQL users to solve an intriguing crime.\n",
    "\n",
    "A crime has taken place and the detective needs your help. The detective gave you the crime scene report, but you somehow lost it. You vaguely remember that the crime was a ​murder​ that occurred sometime on ​Jan.15, 2018​ and that it took place in ​SQL City​. Start by retrieving the corresponding crime scene report from the police department’s database.\n",
    "\n",
    "## Database Schema\n",
    "\n",
    "<img alt='Database schema' src='img/ERD-2025-02-01-034356.png' width=50%>\n",
    "\n"
   ]
  },
  {
   "cell_type": "markdown",
   "metadata": {},
   "source": [
    "### Install duckdb and magic_duckdb if not already installed"
   ]
  },
  {
   "cell_type": "code",
   "execution_count": 1,
   "metadata": {},
   "outputs": [],
   "source": [
    "# %pip install duckdb magic_duckdb --upgrade --quiet"
   ]
  },
  {
   "cell_type": "markdown",
   "metadata": {},
   "source": [
    "### Load our SQLITE database using DuckDB"
   ]
  },
  {
   "cell_type": "code",
   "execution_count": 2,
   "metadata": {
    "vscode": {
     "languageId": "sql"
    }
   },
   "outputs": [
    {
     "name": "stdout",
     "output_type": "stream",
     "text": [
      "Exception reporting mode: Minimal\n"
     ]
    },
    {
     "data": {
      "text/markdown": [
       "| database_name      |   database_oid | path                       | comment   | tags   | internal   | type   | readonly   |\n",
       "|:-------------------|---------------:|:---------------------------|:----------|:-------|:-----------|:-------|:-----------|\n",
       "| memory             |           1146 |                            |           | {}     | False      | duckdb | False      |\n",
       "| sql-murder-mystery |           1828 | data/sql-murder-mystery.db |           | {}     | False      | sqlite | False      |\n",
       "| system             |              0 |                            |           | {}     | True       | duckdb | False      |\n",
       "| temp               |           1820 |                            |           | {}     | True       | duckdb | False      |"
      ],
      "text/plain": [
       "<IPython.core.display.Markdown object>"
      ]
     },
     "execution_count": 2,
     "metadata": {},
     "output_type": "execute_result"
    }
   ],
   "source": [
    "%xmode minimal\n",
    "%reload_ext magic_duckdb\n",
    "%dql ATTACH 'data/sql-murder-mystery.db' (TYPE SQLITE);\n",
    "%dql -t df_markdown FROM duckdb_databases();\n"
   ]
  },
  {
   "cell_type": "markdown",
   "metadata": {},
   "source": [
    "### Specify the database to use and see what tables we have to work with"
   ]
  },
  {
   "cell_type": "code",
   "execution_count": 3,
   "metadata": {
    "vscode": {
     "languageId": "sql"
    }
   },
   "outputs": [
    {
     "data": {
      "text/markdown": [
       "| table_name             |   column_count | sql                                                                                                                                                                                               |\n",
       "|:-----------------------|---------------:|:--------------------------------------------------------------------------------------------------------------------------------------------------------------------------------------------------|\n",
       "| crime_scene_report     |              4 | CREATE TABLE crime_scene_report(date BIGINT, \"type\" VARCHAR, description VARCHAR, city VARCHAR);                                                                                                  |\n",
       "| drivers_license        |              9 | CREATE TABLE drivers_license(id BIGINT PRIMARY KEY, age BIGINT, height BIGINT, eye_color VARCHAR, hair_color VARCHAR, gender VARCHAR, plate_number VARCHAR, car_make VARCHAR, car_model VARCHAR); |\n",
       "| facebook_event_checkin |              4 | CREATE TABLE facebook_event_checkin(person_id BIGINT, event_id BIGINT, event_name VARCHAR, date BIGINT);                                                                                          |\n",
       "| interview              |              2 | CREATE TABLE interview(person_id BIGINT, transcript VARCHAR);                                                                                                                                     |\n",
       "| get_fit_now_member     |              5 | CREATE TABLE get_fit_now_member(id VARCHAR PRIMARY KEY, person_id BIGINT, \"name\" VARCHAR, membership_start_date BIGINT, membership_status VARCHAR);                                               |\n",
       "| get_fit_now_check_in   |              4 | CREATE TABLE get_fit_now_check_in(membership_id VARCHAR, check_in_date BIGINT, check_in_time BIGINT, check_out_time BIGINT);                                                                      |\n",
       "| solution               |              2 | CREATE TABLE solution(\"user\" BIGINT, \"value\" VARCHAR);                                                                                                                                            |\n",
       "| income                 |              2 | CREATE TABLE income(ssn VARCHAR PRIMARY KEY, annual_income BIGINT);                                                                                                                               |\n",
       "| person                 |              6 | CREATE TABLE person(id BIGINT PRIMARY KEY, \"name\" VARCHAR, license_id BIGINT, address_number BIGINT, address_street_name VARCHAR, ssn VARCHAR);                                                   |"
      ],
      "text/plain": [
       "<IPython.core.display.Markdown object>"
      ]
     },
     "execution_count": 3,
     "metadata": {},
     "output_type": "execute_result"
    }
   ],
   "source": [
    "%dql USE 'sql-murder-mystery';\n",
    "%dql -t df_markdown SELECT table_name, column_count, sql FROM duckdb_tables();"
   ]
  },
  {
   "cell_type": "markdown",
   "metadata": {},
   "source": [
    "### Alternatively"
   ]
  },
  {
   "cell_type": "code",
   "execution_count": 4,
   "metadata": {
    "vscode": {
     "languageId": "sql"
    }
   },
   "outputs": [
    {
     "data": {
      "text/markdown": [
       "| table_name             | column_name           | data_type   |\n",
       "|:-----------------------|:----------------------|:------------|\n",
       "| crime_scene_report     | date                  | BIGINT      |\n",
       "| crime_scene_report     | type                  | VARCHAR     |\n",
       "| crime_scene_report     | description           | VARCHAR     |\n",
       "| crime_scene_report     | city                  | VARCHAR     |\n",
       "| drivers_license        | id                    | BIGINT      |\n",
       "| drivers_license        | age                   | BIGINT      |\n",
       "| drivers_license        | height                | BIGINT      |\n",
       "| drivers_license        | eye_color             | VARCHAR     |\n",
       "| drivers_license        | hair_color            | VARCHAR     |\n",
       "| drivers_license        | gender                | VARCHAR     |\n",
       "| drivers_license        | plate_number          | VARCHAR     |\n",
       "| drivers_license        | car_make              | VARCHAR     |\n",
       "| drivers_license        | car_model             | VARCHAR     |\n",
       "| facebook_event_checkin | person_id             | BIGINT      |\n",
       "| facebook_event_checkin | event_id              | BIGINT      |\n",
       "| facebook_event_checkin | event_name            | VARCHAR     |\n",
       "| facebook_event_checkin | date                  | BIGINT      |\n",
       "| interview              | person_id             | BIGINT      |\n",
       "| interview              | transcript            | VARCHAR     |\n",
       "| get_fit_now_member     | id                    | VARCHAR     |\n",
       "| get_fit_now_member     | person_id             | BIGINT      |\n",
       "| get_fit_now_member     | name                  | VARCHAR     |\n",
       "| get_fit_now_member     | membership_start_date | BIGINT      |\n",
       "| get_fit_now_member     | membership_status     | VARCHAR     |\n",
       "| get_fit_now_check_in   | membership_id         | VARCHAR     |\n",
       "| get_fit_now_check_in   | check_in_date         | BIGINT      |\n",
       "| get_fit_now_check_in   | check_in_time         | BIGINT      |\n",
       "| get_fit_now_check_in   | check_out_time        | BIGINT      |\n",
       "| solution               | user                  | BIGINT      |\n",
       "| solution               | value                 | VARCHAR     |\n",
       "| income                 | ssn                   | VARCHAR     |\n",
       "| income                 | annual_income         | BIGINT      |\n",
       "| person                 | id                    | BIGINT      |\n",
       "| person                 | name                  | VARCHAR     |\n",
       "| person                 | license_id            | BIGINT      |\n",
       "| person                 | address_number        | BIGINT      |\n",
       "| person                 | address_street_name   | VARCHAR     |\n",
       "| person                 | ssn                   | VARCHAR     |"
      ],
      "text/plain": [
       "<IPython.core.display.Markdown object>"
      ]
     },
     "execution_count": 4,
     "metadata": {},
     "output_type": "execute_result"
    }
   ],
   "source": [
    "%dql -t df_markdown SELECT table_name, column_name, data_type FROM duckdb_columns() WHERE database_name = 'sql-murder-mystery';"
   ]
  },
  {
   "cell_type": "markdown",
   "metadata": {},
   "source": [
    "### Collect some stats on the `crime_scene_report` table"
   ]
  },
  {
   "cell_type": "code",
   "execution_count": 5,
   "metadata": {
    "vscode": {
     "languageId": "sql"
    }
   },
   "outputs": [
    {
     "data": {
      "text/markdown": [
       "| column_name   | column_type   | min      | max                                         |   approx_unique |        avg |     std |      q25 |      q50 |      q75 |   count |   null_percentage |\n",
       "|:--------------|:--------------|:---------|:--------------------------------------------|----------------:|-----------:|--------:|---------:|---------:|---------:|--------:|------------------:|\n",
       "| date          | BIGINT        | 20170101 | 20180501                                    |             426 | 2.0173e+07 | 4160.93 | 20170433 | 20170905 | 20174384 |    1228 |                 0 |\n",
       "| type          | VARCHAR       | arson    | theft                                       |              10 |            |         |          |          |          |    1228 |                 0 |\n",
       "| description   | VARCHAR       |          | ‘tis love, that makes the world go round!”’ |             797 |            |         |          |          |          |    1228 |                 0 |\n",
       "| city          | VARCHAR       | Aberdeen | Youngstown                                  |             423 |            |         |          |          |          |    1228 |                 0 |"
      ],
      "text/plain": [
       "<IPython.core.display.Markdown object>"
      ]
     },
     "execution_count": 5,
     "metadata": {},
     "output_type": "execute_result"
    }
   ],
   "source": [
    "%dql -t df_markdown SUMMARIZE crime_scene_report;"
   ]
  },
  {
   "cell_type": "markdown",
   "metadata": {},
   "source": [
    "### Locate the crime report of interest"
   ]
  },
  {
   "cell_type": "code",
   "execution_count": 6,
   "metadata": {
    "vscode": {
     "languageId": "sql"
    }
   },
   "outputs": [
    {
     "data": {
      "text/markdown": [
       "|     date | type   | description                                                                                                                                                                               | city     |\n",
       "|---------:|:-------|:------------------------------------------------------------------------------------------------------------------------------------------------------------------------------------------|:---------|\n",
       "| 20180115 | murder | Security footage shows that there were 2 witnesses. The first witness lives at the last house on \"Northwestern Dr\". The second witness, named Annabel, lives somewhere on \"Franklin Ave\". | SQL City |"
      ],
      "text/plain": [
       "<IPython.core.display.Markdown object>"
      ]
     },
     "execution_count": 6,
     "metadata": {},
     "output_type": "execute_result"
    }
   ],
   "source": [
    "%%dql -t df_markdown\n",
    "-- Find the report from January 15th, 2018\n",
    "-- Type is murder, city is SQL City\n",
    "FROM crime_scene_report\n",
    "WHERE \n",
    "    date = 20180115 -- date is stored as int\n",
    "    and city = 'SQL City' -- city of interest\n",
    "    and type = 'murder' -- we're looking for the murder "
   ]
  },
  {
   "cell_type": "markdown",
   "metadata": {},
   "source": [
    "There are two witnesses:\n",
    "1. Lives at the last house on `Northwestern Dr` \n",
    "2. Named `Annabel`, lives somewhere on `Franklin Ave`\n",
    "\n",
    "We'll need to discover who they are from the `person` table and review their `transcript`."
   ]
  },
  {
   "cell_type": "code",
   "execution_count": 7,
   "metadata": {
    "vscode": {
     "languageId": "sql"
    }
   },
   "outputs": [
    {
     "data": {
      "text/markdown": [
       "|    id | name           |   license_id |   address_number | address_street_name   |       ssn |   person_id | transcript                                                                                                                                                                                                                      |\n",
       "|------:|:---------------|-------------:|-----------------:|:----------------------|----------:|------------:|:--------------------------------------------------------------------------------------------------------------------------------------------------------------------------------------------------------------------------------|\n",
       "| 16371 | Annabel Miller |       490173 |              103 | Franklin Ave          | 318771143 |       16371 | I saw the murder happen, and I recognized the killer from my gym when I was working out last week on January the 9th.                                                                                                           |\n",
       "| 14887 | Morty Schapiro |       118009 |             4919 | Northwestern Dr       | 111564949 |       14887 | I heard a gunshot and then saw a man run out. He had a \"Get Fit Now Gym\" bag. The membership number on the bag started with \"48Z\". Only gold members have those bags. The man got into a car with a plate that included \"H42W\". |"
      ],
      "text/plain": [
       "<IPython.core.display.Markdown object>"
      ]
     },
     "execution_count": 7,
     "metadata": {},
     "output_type": "execute_result"
    }
   ],
   "source": [
    "%%dql -t df_markdown\n",
    "-- find our witness data\n",
    "WITH find_northwestern_witness AS (\n",
    "    FROM person\n",
    "    WHERE address_street_name ilike '%northwestern%'\n",
    "    ORDER BY address_number DESC\n",
    "    LIMIT 1\n",
    "),\n",
    "find_annabel_witness AS (\n",
    "    FROM person\n",
    "    WHERE name ilike '%annabel%' and address_street_name ilike '%franklin%'\n",
    "),\n",
    "witnesses AS (\n",
    "    -- combine our witnesses together in a single result\n",
    "    FROM find_northwestern_witness\n",
    "    UNION\n",
    "    FROM find_annabel_witness\n",
    ")\n",
    "-- and get their witness statement\n",
    "FROM witnesses\n",
    "LEFT JOIN interview \n",
    "    ON witnesses.id = interview.person_id"
   ]
  },
  {
   "cell_type": "markdown",
   "metadata": {},
   "source": [
    "From the witness transcripts we have:\n",
    "- Annabel recognizing the killer from her gym when she was working out on `January 9th (2018)`.\n",
    "- Morty telling us the following about the suspect:\n",
    "  - Gender: `male`\n",
    "  - Had a gym bag from `Get Fit Now Gym`\n",
    "  - Membership number on the bag started with `48Z`\n",
    "  - Only `gold` members have those bags.\n",
    "  - Got into a car with a license plate that had `H42W` in it.\n",
    "\n",
    "Let's see where our two witnesses were using their Facebook check-ins `facebook_event_checkin`."
   ]
  },
  {
   "cell_type": "code",
   "execution_count": 8,
   "metadata": {
    "vscode": {
     "languageId": "sql"
    }
   },
   "outputs": [
    {
     "data": {
      "text/markdown": [
       "|   person_id |   event_id | event_name             |     date |    id | name           |   license_id |   address_number | address_street_name   |       ssn |\n",
       "|------------:|-----------:|:-----------------------|---------:|------:|:---------------|-------------:|-----------------:|:----------------------|----------:|\n",
       "|       14887 |       4719 | The Funky Grooves Tour | 20180115 | 14887 | Morty Schapiro |       118009 |             4919 | Northwestern Dr       | 111564949 |\n",
       "|       16371 |       4719 | The Funky Grooves Tour | 20180115 | 16371 | Annabel Miller |       490173 |              103 | Franklin Ave          | 318771143 |"
      ],
      "text/plain": [
       "<IPython.core.display.Markdown object>"
      ]
     },
     "execution_count": 8,
     "metadata": {},
     "output_type": "execute_result"
    }
   ],
   "source": [
    "%%dql -t df_markdown\n",
    "-- Annabel and Morty \n",
    "FROM facebook_event_checkin f\n",
    "LEFT JOIN person p\n",
    "    ON f.person_id = p.id\n",
    "WHERE person_id in (16371, 14887)"
   ]
  },
  {
   "cell_type": "markdown",
   "metadata": {},
   "source": [
    "Let's see if we can find out more about the owner of the car with the plate `H42W` by looking at the `drivers_license` table and joining that data with the `person` table"
   ]
  },
  {
   "cell_type": "code",
   "execution_count": 9,
   "metadata": {
    "vscode": {
     "languageId": "sql"
    }
   },
   "outputs": [
    {
     "data": {
      "text/markdown": [
       "|     id |   age |   height | eye_color   | hair_color   | gender   | plate_number   | car_make   | car_model   |   id_1 | name           |   license_id |   address_number | address_street_name   |       ssn |\n",
       "|-------:|------:|---------:|:------------|:-------------|:---------|:---------------|:-----------|:------------|-------:|:---------------|-------------:|-----------------:|:----------------------|----------:|\n",
       "| 183779 |    21 |       65 | blue        | blonde       | female   | H42W0X         | Toyota     | Prius       |  78193 | Maxine Whitely |       183779 |              110 | Fisk Rd               | 137882671 |\n",
       "| 423327 |    30 |       70 | brown       | brown        | male     | 0H42W2         | Chevrolet  | Spark LS    |  67318 | Jeremy Bowers  |       423327 |              530 | Washington Pl, Apt 3A | 871539279 |\n",
       "| 664760 |    21 |       71 | black       | black        | male     | 4H42WR         | Nissan     | Altima      |  51739 | Tushar Chandra |       664760 |              312 | Phi St                | 137882671 |"
      ],
      "text/plain": [
       "<IPython.core.display.Markdown object>"
      ]
     },
     "execution_count": 9,
     "metadata": {},
     "output_type": "execute_result"
    }
   ],
   "source": [
    "%%dql -t df_markdown\n",
    "-- drivers of interest\n",
    "FROM drivers_license dl\n",
    "LEFT JOIN person p\n",
    "    ON dl.id = p.license_id\n",
    "WHERE plate_number ILIKE '%h42W%';"
   ]
  },
  {
   "cell_type": "markdown",
   "metadata": {},
   "source": [
    "Let's see if any of the gym members have any overlaps with the drivers of interest."
   ]
  },
  {
   "cell_type": "code",
   "execution_count": 10,
   "metadata": {
    "vscode": {
     "languageId": "sql"
    }
   },
   "outputs": [
    {
     "data": {
      "text/markdown": [
       "| membership_id   |   check_in_date |   check_in_time |   check_out_time | id    |   person_id | name           |   membership_start_date | membership_status   |   id_1 | name_1         |   license_id |   address_number | address_street_name   |       ssn |\n",
       "|:----------------|----------------:|----------------:|-----------------:|:------|------------:|:---------------|------------------------:|:--------------------|-------:|:---------------|-------------:|-----------------:|:----------------------|----------:|\n",
       "| 90081           |        20180109 |            1600 |             1700 | 90081 |       16371 | Annabel Miller |                20160208 | gold                |  16371 | Annabel Miller |       490173 |              103 | Franklin Ave          | 318771143 |\n",
       "| 48Z7A           |        20180109 |            1600 |             1730 | 48Z7A |       28819 | Joe Germuska   |                20160305 | gold                |  28819 | Joe Germuska   |       173289 |              111 | Fisk Rd               | 138909730 |\n",
       "| 48Z55           |        20180109 |            1530 |             1700 | 48Z55 |       67318 | Jeremy Bowers  |                20160101 | gold                |  67318 | Jeremy Bowers  |       423327 |              530 | Washington Pl, Apt 3A | 871539279 |"
      ],
      "text/plain": [
       "<IPython.core.display.Markdown object>"
      ]
     },
     "execution_count": 10,
     "metadata": {},
     "output_type": "execute_result"
    }
   ],
   "source": [
    "%%dql -t df_markdown\n",
    "FROM get_fit_now_check_in gci\n",
    "LEFT JOIN get_fit_now_member gm\n",
    "    ON gci.membership_id = gm.id\n",
    "LEFT JOIN person p\n",
    "    ON gm.person_id = p.id\n",
    "WHERE \n",
    "    (gm.membership_status = 'gold' AND gm.id LIKE '48Z%')\n",
    "AND gci.check_in_date = 20180109\n",
    "OR p.id in (14887, 16371)\n"
   ]
  },
  {
   "cell_type": "markdown",
   "metadata": {},
   "source": [
    "That gives us two suspects:\n",
    "1. person.id `28819`, Joe Germuska at 111 Fisk Rd.\n",
    "2. person.id `67318`, Jeremy Bowers at 530 Washington Pl, Apt 3A\n",
    "\n",
    "Let's check their Facebook check-in events. "
   ]
  },
  {
   "cell_type": "code",
   "execution_count": 11,
   "metadata": {
    "vscode": {
     "languageId": "sql"
    }
   },
   "outputs": [
    {
     "data": {
      "text/markdown": [
       "|   person_id |   event_id | event_name             |     date |    id | name          |   license_id |   address_number | address_street_name   |       ssn |\n",
       "|------------:|-----------:|:-----------------------|---------:|------:|:--------------|-------------:|-----------------:|:----------------------|----------:|\n",
       "|       67318 |       1143 | SQL Symphony Concert   | 20171206 | 67318 | Jeremy Bowers |       423327 |              530 | Washington Pl, Apt 3A | 871539279 |\n",
       "|       67318 |       4719 | The Funky Grooves Tour | 20180115 | 67318 | Jeremy Bowers |       423327 |              530 | Washington Pl, Apt 3A | 871539279 |"
      ],
      "text/plain": [
       "<IPython.core.display.Markdown object>"
      ]
     },
     "execution_count": 11,
     "metadata": {},
     "output_type": "execute_result"
    }
   ],
   "source": [
    "%%dql -t df_markdown\n",
    "-- Joe and Jeremy\n",
    "FROM facebook_event_checkin f\n",
    "LEFT JOIN person p\n",
    "    ON f.person_id = p.id\n",
    "WHERE person_id in (28819, 67318)"
   ]
  },
  {
   "cell_type": "markdown",
   "metadata": {},
   "source": [
    "Joe had no Facebook check-ins where Jeremy was also at `The Funky Grooves Tour` event on the same day the murder and our witnesses. Assuming that are murder took place at that event than `Jeremy Bowers` is our likely murderer. "
   ]
  },
  {
   "cell_type": "code",
   "execution_count": 12,
   "metadata": {
    "vscode": {
     "languageId": "sql"
    }
   },
   "outputs": [
    {
     "data": {
      "text/markdown": [
       "| value                                                                                                                                                                                                                                                                                                                                                                                              |\n",
       "|:---------------------------------------------------------------------------------------------------------------------------------------------------------------------------------------------------------------------------------------------------------------------------------------------------------------------------------------------------------------------------------------------------|\n",
       "| Congrats, you found the murderer! But wait, there's more... If you think you're up for a challenge, try querying the interview transcript of the murderer to find the real villain behind this crime. If you feel especially confident in your SQL skills, try to complete this final step with no more than 2 queries. Use this same INSERT statement with your new suspect to check your answer. |"
      ],
      "text/plain": [
       "<IPython.core.display.Markdown object>"
      ]
     },
     "execution_count": 12,
     "metadata": {},
     "output_type": "execute_result"
    }
   ],
   "source": [
    "%%dql -t df_markdown\n",
    "INSERT INTO solution VALUES (1, 'Jeremy Bowers');\n",
    "SELECT value FROM solution;"
   ]
  },
  {
   "cell_type": "markdown",
   "metadata": {},
   "source": [
    "> Congrats, you found the murderer! But wait, there's more... If you think you're up for a challenge, try querying the interview transcript of the murderer to find the real villain behind this crime. If you feel especially confident in your SQL skills, try to complete this final step with no more than 2 queries. Use this same INSERT statement with your new suspect to check your answer."
   ]
  },
  {
   "cell_type": "code",
   "execution_count": 13,
   "metadata": {
    "vscode": {
     "languageId": "sql"
    }
   },
   "outputs": [
    {
     "data": {
      "text/markdown": [
       "|   person_id | transcript                                                                                                                                                                                                                                       |\n",
       "|------------:|:-------------------------------------------------------------------------------------------------------------------------------------------------------------------------------------------------------------------------------------------------|\n",
       "|       67318 | I was hired by a woman with a lot of money. I don't know her name but I know she's around 5'5\" (65\") or 5'7\" (67\"). She has red hair and she drives a Tesla Model S. I know that she attended the SQL Symphony Concert 3 times in December 2017. |"
      ],
      "text/plain": [
       "<IPython.core.display.Markdown object>"
      ]
     },
     "execution_count": 13,
     "metadata": {},
     "output_type": "execute_result"
    }
   ],
   "source": [
    "%%dql -t df_markdown\n",
    "-- get the interview transcript for Jermy Bowers\n",
    "FROM interview\n",
    "WHERE person_id = 67318"
   ]
  },
  {
   "cell_type": "markdown",
   "metadata": {},
   "source": [
    "### Let's find the woman who hired `Jeremy Bowers`! "
   ]
  },
  {
   "cell_type": "code",
   "execution_count": 14,
   "metadata": {
    "vscode": {
     "languageId": "sql"
    }
   },
   "outputs": [
    {
     "data": {
      "text/markdown": [
       "|     id |   age |   height | eye_color   | hair_color   | gender   |   plate_number | car_make   | car_model   |   id_1 | name             |   license_id |   address_number | address_street_name   |       ssn |   person_id |     ssn_1 |   annual_income |\n",
       "|-------:|------:|---------:|:------------|:-------------|:---------|---------------:|:-----------|:------------|-------:|:-----------------|-------------:|-----------------:|:----------------------|----------:|------------:|----------:|----------------:|\n",
       "| 202298 |    68 |       66 | green       | red          | female   |         500123 | Tesla      | Model S     |  99716 | Miranda Priestly |       202298 |             1883 | Golden Ave            | 987756388 |       99716 | 987756388 |          310000 |"
      ],
      "text/plain": [
       "<IPython.core.display.Markdown object>"
      ]
     },
     "execution_count": 14,
     "metadata": {},
     "output_type": "execute_result"
    }
   ],
   "source": [
    "%%dql -t df_markdown\n",
    "WITH persons_attending_concert_3_times AS (\n",
    "    -- find individuals who attended the \n",
    "    -- SQL Symphony Concert 3 times in December 2017\n",
    "    FROM facebook_event_checkin f\n",
    "    SELECT person_id\n",
    "    WHERE \n",
    "        date BETWEEN 20171201 and 20171231\n",
    "    AND event_name = 'SQL Symphony Concert'\n",
    "    GROUP BY person_id\n",
    "    HAVING COUNT(*) = 3\n",
    ")\n",
    "FROM drivers_license dl\n",
    "INNER JOIN person p\n",
    "    ON dl.id = p.license_id\n",
    "INNER JOIN persons_attending_concert_3_times pac\n",
    "    ON pac.person_id = p.id\n",
    "INNER JOIN income i\n",
    "    on p.ssn = i.ssn\n",
    "WHERE \n",
    "    height between 65 and 67\n",
    "AND gender = 'female'\n",
    "AND car_make = 'Tesla'\n",
    "AND hair_color = 'red'\n",
    "AND car_model = 'Model S';\n"
   ]
  },
  {
   "cell_type": "markdown",
   "metadata": {},
   "source": [
    "`Miranda Priestly` fits the description provided by `Jeremy Bowers` let's check if we solved the mystery."
   ]
  },
  {
   "cell_type": "code",
   "execution_count": 15,
   "metadata": {
    "vscode": {
     "languageId": "sql"
    }
   },
   "outputs": [
    {
     "data": {
      "text/markdown": [
       "| value                                                                                                                                                        |\n",
       "|:-------------------------------------------------------------------------------------------------------------------------------------------------------------|\n",
       "| Congrats, you found the brains behind the murder! Everyone in SQL City hails you as the greatest SQL detective of all time. Time to break out the champagne! |"
      ],
      "text/plain": [
       "<IPython.core.display.Markdown object>"
      ]
     },
     "execution_count": 15,
     "metadata": {},
     "output_type": "execute_result"
    }
   ],
   "source": [
    "%%dql -t df_markdown\n",
    "INSERT INTO solution VALUES (1, 'Miranda Priestly');\n",
    "SELECT value FROM solution;"
   ]
  },
  {
   "cell_type": "markdown",
   "metadata": {},
   "source": [
    "> Congrats, you found the brains behind the murder! Everyone in SQL City hails you as the greatest SQL detective of all time. Time to break out the champagne!\n",
    "\n",
    "### Conclusion: `Miranda Priestly` hired the hitman `Jeremy Bowers`"
   ]
  },
  {
   "cell_type": "markdown",
   "metadata": {},
   "source": [
    "---\n",
    "# MISCELLANEOUS"
   ]
  },
  {
   "cell_type": "markdown",
   "metadata": {},
   "source": [
    "I was curious how the solution checking logic was working, so I opened up the database file with [DBeaver](https://dbeaver.io/) and checked the Table Triggers which has `check_solution` that contains:\n",
    "\n",
    "```sql\n",
    "CREATE TRIGGER check_solution AFTER INSERT ON solution\n",
    "    WHEN new.user==1\n",
    "    BEGIN\n",
    "        DELETE FROM solution;\n",
    "        INSERT INTO solution VALUES (0,\n",
    "        CASE WHEN hex(new.value)=='4A6572656D7920426F77657273' THEN \"Congrats, you found the murderer! But wait, there's more... If you think you're up for a challenge, try querying the interview transcript of the murderer to find the real villain behind this crime. If you feel especially confident in your SQL skills, try to complete this final step with no more than 2 queries. Use this same INSERT statement with your new suspect to check your answer.\"\n",
    "             WHEN hex(new.value)=='4D6972616E6461205072696573746C79' THEN \"Congrats, you found the brains behind the murder! Everyone in SQL City hails you as the greatest SQL detective of all time. Time to break out the champagne!\"\n",
    "             ELSE \"That's not the right person. Try again!\"\n",
    "        END\n",
    "        );\n",
    "    END;\n",
    "```"
   ]
  },
  {
   "cell_type": "markdown",
   "metadata": {},
   "source": [
    "Apparently DuckDB doesn't return `type = trigger` in the output."
   ]
  },
  {
   "cell_type": "code",
   "execution_count": 16,
   "metadata": {
    "vscode": {
     "languageId": "sql"
    }
   },
   "outputs": [
    {
     "data": {
      "text/markdown": [
       "| type   | name                                  | tbl_name               |   rootpage | sql                                                                                                                                                                                               |\n",
       "|:-------|:--------------------------------------|:-----------------------|-----------:|:--------------------------------------------------------------------------------------------------------------------------------------------------------------------------------------------------|\n",
       "| table  | crime_scene_report                    | crime_scene_report     |          0 | CREATE TABLE crime_scene_report(date BIGINT, \"type\" VARCHAR, description VARCHAR, city VARCHAR);                                                                                                  |\n",
       "| table  | drivers_license                       | drivers_license        |          0 | CREATE TABLE drivers_license(id BIGINT PRIMARY KEY, age BIGINT, height BIGINT, eye_color VARCHAR, hair_color VARCHAR, gender VARCHAR, plate_number VARCHAR, car_make VARCHAR, car_model VARCHAR); |\n",
       "| table  | facebook_event_checkin                | facebook_event_checkin |          0 | CREATE TABLE facebook_event_checkin(person_id BIGINT, event_id BIGINT, event_name VARCHAR, date BIGINT);                                                                                          |\n",
       "| table  | interview                             | interview              |          0 | CREATE TABLE interview(person_id BIGINT, transcript VARCHAR);                                                                                                                                     |\n",
       "| table  | get_fit_now_member                    | get_fit_now_member     |          0 | CREATE TABLE get_fit_now_member(id VARCHAR PRIMARY KEY, person_id BIGINT, \"name\" VARCHAR, membership_start_date BIGINT, membership_status VARCHAR);                                               |\n",
       "| table  | get_fit_now_check_in                  | get_fit_now_check_in   |          0 | CREATE TABLE get_fit_now_check_in(membership_id VARCHAR, check_in_date BIGINT, check_in_time BIGINT, check_out_time BIGINT);                                                                      |\n",
       "| table  | solution                              | solution               |          0 | CREATE TABLE solution(\"user\" BIGINT, \"value\" VARCHAR);                                                                                                                                            |\n",
       "| table  | income                                | income                 |          0 | CREATE TABLE income(ssn VARCHAR PRIMARY KEY, annual_income BIGINT);                                                                                                                               |\n",
       "| table  | person                                | person                 |          0 | CREATE TABLE person(id BIGINT PRIMARY KEY, \"name\" VARCHAR, license_id BIGINT, address_number BIGINT, address_street_name VARCHAR, ssn VARCHAR);                                                   |\n",
       "| index  | sqlite_autoindex_get_fit_now_member_1 | get_fit_now_member     |          0 | CREATE INDEX sqlite_autoindex_get_fit_now_member_1 ON get_fit_now_member USING  ();                                                                                                               |\n",
       "| index  | sqlite_autoindex_income_1             | income                 |          0 | CREATE INDEX sqlite_autoindex_income_1 ON income USING  ();                                                                                                                                       |"
      ],
      "text/plain": [
       "<IPython.core.display.Markdown object>"
      ]
     },
     "execution_count": 16,
     "metadata": {},
     "output_type": "execute_result"
    }
   ],
   "source": [
    "%%dql -t df_markdown\n",
    "FROM sqlite_master;"
   ]
  },
  {
   "cell_type": "code",
   "execution_count": 17,
   "metadata": {
    "vscode": {
     "languageId": "sql"
    }
   },
   "outputs": [
    {
     "data": {
      "text/markdown": [
       "|    id | name             |   license_id |   address_number | address_street_name   |       ssn | hex_value                        |\n",
       "|------:|:-----------------|-------------:|-----------------:|:----------------------|----------:|:---------------------------------|\n",
       "| 67318 | Jeremy Bowers    |       423327 |              530 | Washington Pl, Apt 3A | 871539279 | 4A6572656D7920426F77657273       |\n",
       "| 99716 | Miranda Priestly |       202298 |             1883 | Golden Ave            | 987756388 | 4D6972616E6461205072696573746C79 |"
      ],
      "text/plain": [
       "<IPython.core.display.Markdown object>"
      ]
     },
     "execution_count": 17,
     "metadata": {},
     "output_type": "execute_result"
    }
   ],
   "source": [
    "%%dql -t df_markdown\n",
    "-- reverse engineering the trigger\n",
    "FROM person\n",
    "SELECT *, hex(name) AS hex_value\n",
    "WHERE \n",
    "    hex_value IN ('4A6572656D7920426F77657273', '4D6972616E6461205072696573746C79')"
   ]
  },
  {
   "cell_type": "code",
   "execution_count": 18,
   "metadata": {
    "vscode": {
     "languageId": "sql"
    }
   },
   "outputs": [],
   "source": [
    "%dql --close"
   ]
  },
  {
   "cell_type": "markdown",
   "metadata": {},
   "source": [
    "Related Github for [SQL Murder Mysteries](https://github.com/NUKnightLab/sql-mysteries)"
   ]
  }
 ],
 "metadata": {
  "kernelspec": {
   "display_name": "Python 3",
   "language": "python",
   "name": "python3"
  },
  "language_info": {
   "codemirror_mode": {
    "name": "ipython",
    "version": 3
   },
   "file_extension": ".py",
   "mimetype": "text/x-python",
   "name": "python",
   "nbconvert_exporter": "python",
   "pygments_lexer": "ipython3",
   "version": "3.11.9"
  }
 },
 "nbformat": 4,
 "nbformat_minor": 2
}
